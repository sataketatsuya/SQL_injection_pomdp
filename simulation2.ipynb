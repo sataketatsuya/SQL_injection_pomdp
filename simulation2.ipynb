{
 "cells": [
  {
   "cell_type": "code",
   "execution_count": 1,
   "id": "2728c0ff",
   "metadata": {},
   "outputs": [],
   "source": [
    "import numpy as np\n",
    "import const\n",
    "import utilities as ut\n",
    "\n",
    "import gym\n",
    "import ctfsql\n",
    "import math"
   ]
  },
  {
   "cell_type": "code",
   "execution_count": 2,
   "id": "6864a221",
   "metadata": {},
   "outputs": [],
   "source": [
    "from typing import Mapping, Any\n",
    "\n",
    "import numpy as np\n",
    "from ctfsql.agents.random_agent import Agent\n",
    "\n",
    "\n",
    "class RandomAgent(Agent):\n",
    "    \"\"\" Agent that randomly selects a command from the admissible ones. \"\"\"\n",
    "    def __init__(self, seed=1234):\n",
    "        self.seed = seed\n",
    "        self.rng = np.random.RandomState(self.seed)\n",
    "    \n",
    "    def act(self, obs: str, score: int, done: bool, infos: Mapping[str, Any]):\n",
    "        command_id = np.random.randint(0, len(infos[\"admissible_commands\"]))\n",
    "        command = infos[\"admissible_commands\"][command_id]\n",
    "        return command_id,  command"
   ]
  },
  {
   "cell_type": "code",
   "execution_count": 3,
   "id": "77b6d5ee",
   "metadata": {},
   "outputs": [],
   "source": [
    "import os\n",
    "from glob import glob\n",
    "\n",
    "import torch\n",
    "\n",
    "\n",
    "def play(agent, max_step=1000, nb_episodes=10, verbose=True):\n",
    "    torch.manual_seed(20211021)  # For reproducibility when using action sampling.\n",
    "\n",
    "    env = gym.make('ctfsql-v0')\n",
    "\n",
    "    # Collect some statistics: nb_steps, final reward.\n",
    "    avg_moves, avg_scores, avg_norm_scores = [], [], []\n",
    "    for no_episode in range(nb_episodes):\n",
    "        obs, infos = env.reset()  # Start new episode.\n",
    "\n",
    "        score = 0\n",
    "        done = False\n",
    "        nb_moves = 0\n",
    "        print(env.url)\n",
    "        while not done and nb_moves <= max_step:\n",
    "            command_id, command = agent.act(obs, score, done, infos)\n",
    "            obs, score, done, infos = env.step(command_id, command)\n",
    "\n",
    "            nb_moves += 1\n",
    "        agent.act(obs, score, done, infos)  # Let the agent know the game is done.\n",
    "\n",
    "        print(infos['description'])\n",
    "        if verbose:\n",
    "            print(\".\", end=\"\")\n",
    "        avg_moves.append(nb_moves)\n",
    "        avg_scores.append(score)\n",
    "        avg_norm_scores.append(score / infos[\"max_score\"])\n",
    "        print(avg_moves, avg_scores, avg_norm_scores)\n",
    "\n",
    "    env.close()\n",
    "    "
   ]
  },
  {
   "cell_type": "code",
   "execution_count": 4,
   "id": "db2d0956",
   "metadata": {},
   "outputs": [
    {
     "name": "stdout",
     "output_type": "stream",
     "text": [
      "http://127.0.0.1/ctf_1/ctf_1_3.php\n",
      "You got the flag.\n",
      ".[40] [100] [1.0]\n",
      "http://127.0.0.1/ctf_1/ctf_1_2.php\n",
      "You got the flag.\n",
      ".[40, 141] [100, 100] [1.0, 1.0]\n",
      "http://127.0.0.1/ctf_1/ctf_1_3.php\n",
      "You got the flag.\n",
      ".[40, 141, 54] [100, 100, 100] [1.0, 1.0, 1.0]\n",
      "http://127.0.0.1/ctf_1/ctf_1_4.php\n",
      "You got the flag.\n",
      ".[40, 141, 54, 263] [100, 100, 100, 100] [1.0, 1.0, 1.0, 1.0]\n",
      "http://127.0.0.1/ctf_2/ctf_2_3.php\n",
      "You got the flag.\n",
      ".[40, 141, 54, 263, 248] [100, 100, 100, 100, 100] [1.0, 1.0, 1.0, 1.0, 1.0]\n",
      "http://127.0.0.1/ctf_1/ctf_1_3.php\n",
      "You got the flag.\n",
      ".[40, 141, 54, 263, 248, 64] [100, 100, 100, 100, 100, 100] [1.0, 1.0, 1.0, 1.0, 1.0, 1.0]\n",
      "http://127.0.0.1/ctf_1/ctf_1_3.php\n",
      "You got the flag.\n",
      ".[40, 141, 54, 263, 248, 64, 443] [100, 100, 100, 100, 100, 100, 100] [1.0, 1.0, 1.0, 1.0, 1.0, 1.0, 1.0]\n",
      "http://127.0.0.1/ctf_4/ctf_4_5.php\n",
      "You got the flag.\n",
      ".[40, 141, 54, 263, 248, 64, 443, 175] [100, 100, 100, 100, 100, 100, 100, 100] [1.0, 1.0, 1.0, 1.0, 1.0, 1.0, 1.0, 1.0]\n",
      "http://127.0.0.1/ctf_1/ctf_1_5.php\n",
      "You got the flag.\n",
      ".[40, 141, 54, 263, 248, 64, 443, 175, 262] [100, 100, 100, 100, 100, 100, 100, 100, 100] [1.0, 1.0, 1.0, 1.0, 1.0, 1.0, 1.0, 1.0, 1.0]\n",
      "http://127.0.0.1/ctf_3/ctf_3_4.php\n",
      "You got the flag.\n",
      ".[40, 141, 54, 263, 248, 64, 443, 175, 262, 369] [100, 100, 100, 100, 100, 100, 100, 100, 100, 100] [1.0, 1.0, 1.0, 1.0, 1.0, 1.0, 1.0, 1.0, 1.0, 1.0]\n"
     ]
    }
   ],
   "source": [
    "agent = RandomAgent()\n",
    "play(agent)"
   ]
  },
  {
   "cell_type": "code",
   "execution_count": null,
   "id": "051fa22a",
   "metadata": {},
   "outputs": [],
   "source": []
  }
 ],
 "metadata": {
  "kernelspec": {
   "display_name": "Python 3",
   "language": "python",
   "name": "python3"
  },
  "language_info": {
   "codemirror_mode": {
    "name": "ipython",
    "version": 3
   },
   "file_extension": ".py",
   "mimetype": "text/x-python",
   "name": "python",
   "nbconvert_exporter": "python",
   "pygments_lexer": "ipython3",
   "version": "3.7.6"
  }
 },
 "nbformat": 4,
 "nbformat_minor": 5
}
